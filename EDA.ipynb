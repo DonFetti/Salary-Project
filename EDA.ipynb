{
 "cells": [
  {
   "cell_type": "markdown",
   "metadata": {},
   "source": [
    "# Data Analysis & Data Scientist Canadian Salaries"
   ]
  },
  {
   "cell_type": "code",
   "execution_count": 2,
   "metadata": {},
   "outputs": [],
   "source": [
    "import pandas as pd, re \n",
    "pd.set_option('display.max_rows',900)"
   ]
  },
  {
   "cell_type": "markdown",
   "metadata": {},
   "source": [
    "## Collecting Data Sources & formatting them\n"
   ]
  },
  {
   "cell_type": "markdown",
   "metadata": {},
   "source": [
    "### Starting with Statcan 2021 census information\n",
    "https://www.jobbank.gc.ca/marketreport/wages-occupation/17882/ca"
   ]
  },
  {
   "cell_type": "code",
   "execution_count": 3,
   "metadata": {},
   "outputs": [],
   "source": [
    "file = r'Data\\StatCan_salary.csv'\n",
    "dfWagesOG = pd.read_csv(file,low_memory=False)\n"
   ]
  },
  {
   "cell_type": "code",
   "execution_count": 4,
   "metadata": {},
   "outputs": [
    {
     "data": {
      "text/plain": [
       "Index(['NOC_CNP', 'NOC_TITLE_ENG', 'NOC_TITLE_FRA', 'prov', 'ER_Code_Code_RE',\n",
       "       'ER_Name', 'Nom_RE', 'Low_Wage_Salaire_Minium',\n",
       "       'Median_Wage_Salaire_Median', 'High_Wage_Salaire_Maximal',\n",
       "       'Average_Wage_Salaire_Moyen', 'Data_Source_E', 'Data_Source_F',\n",
       "       'Reference_Period', 'Revision_Date_Date_revision',\n",
       "       'Annual_Wage_Flag_Salaire_annuel', 'Wage_Comment_E', 'Wage_Comment_F'],\n",
       "      dtype='object')"
      ]
     },
     "execution_count": 4,
     "metadata": {},
     "output_type": "execute_result"
    }
   ],
   "source": [
    "dfWagesOG.columns"
   ]
  },
  {
   "cell_type": "code",
   "execution_count": 5,
   "metadata": {},
   "outputs": [
    {
     "data": {
      "text/plain": [
       "NOC_TITLE_ENG\n",
       "Data entry clerks                            86\n",
       "Data scientists                              86\n",
       "Database analysts and data administrators    86\n",
       "Name: count, dtype: int64"
      ]
     },
     "execution_count": 5,
     "metadata": {},
     "output_type": "execute_result"
    }
   ],
   "source": [
    "dfDatastr = dfWagesOG.copy()\n",
    "dfDatastr = dfDatastr[dfDatastr['NOC_TITLE_ENG'].str.contains('Data',na=False)].copy()\n",
    "dfDatastr['NOC_TITLE_ENG'].value_counts()"
   ]
  },
  {
   "cell_type": "code",
   "execution_count": 6,
   "metadata": {},
   "outputs": [],
   "source": [
    "dfDS = dfDatastr[~dfDatastr['NOC_TITLE_ENG'].str.contains('clerks',na=False)].copy()"
   ]
  },
  {
   "cell_type": "code",
   "execution_count": 7,
   "metadata": {},
   "outputs": [
    {
     "data": {
      "text/html": [
       "<div>\n",
       "<style scoped>\n",
       "    .dataframe tbody tr th:only-of-type {\n",
       "        vertical-align: middle;\n",
       "    }\n",
       "\n",
       "    .dataframe tbody tr th {\n",
       "        vertical-align: top;\n",
       "    }\n",
       "\n",
       "    .dataframe thead th {\n",
       "        text-align: right;\n",
       "    }\n",
       "</style>\n",
       "<table border=\"1\" class=\"dataframe\">\n",
       "  <thead>\n",
       "    <tr style=\"text-align: right;\">\n",
       "      <th></th>\n",
       "      <th>Low_Wage_Salaire_Minium</th>\n",
       "      <th>Median_Wage_Salaire_Median</th>\n",
       "      <th>High_Wage_Salaire_Maximal</th>\n",
       "      <th>Average_Wage_Salaire_Moyen</th>\n",
       "      <th>Annual_Wage_Flag_Salaire_annuel</th>\n",
       "    </tr>\n",
       "  </thead>\n",
       "  <tbody>\n",
       "    <tr>\n",
       "      <th>count</th>\n",
       "      <td>52.000000</td>\n",
       "      <td>64.000000</td>\n",
       "      <td>52.000000</td>\n",
       "      <td>62.000000</td>\n",
       "      <td>172.0</td>\n",
       "    </tr>\n",
       "    <tr>\n",
       "      <th>mean</th>\n",
       "      <td>25.324808</td>\n",
       "      <td>41.265313</td>\n",
       "      <td>61.095385</td>\n",
       "      <td>43.900161</td>\n",
       "      <td>0.0</td>\n",
       "    </tr>\n",
       "    <tr>\n",
       "      <th>std</th>\n",
       "      <td>3.588600</td>\n",
       "      <td>4.199198</td>\n",
       "      <td>11.729541</td>\n",
       "      <td>6.778051</td>\n",
       "      <td>0.0</td>\n",
       "    </tr>\n",
       "    <tr>\n",
       "      <th>min</th>\n",
       "      <td>15.600000</td>\n",
       "      <td>32.550000</td>\n",
       "      <td>42.000000</td>\n",
       "      <td>33.540000</td>\n",
       "      <td>0.0</td>\n",
       "    </tr>\n",
       "    <tr>\n",
       "      <th>25%</th>\n",
       "      <td>23.080000</td>\n",
       "      <td>38.000000</td>\n",
       "      <td>53.217500</td>\n",
       "      <td>39.087500</td>\n",
       "      <td>0.0</td>\n",
       "    </tr>\n",
       "    <tr>\n",
       "      <th>50%</th>\n",
       "      <td>25.000000</td>\n",
       "      <td>41.340000</td>\n",
       "      <td>57.845000</td>\n",
       "      <td>42.015000</td>\n",
       "      <td>0.0</td>\n",
       "    </tr>\n",
       "    <tr>\n",
       "      <th>75%</th>\n",
       "      <td>27.345000</td>\n",
       "      <td>44.832500</td>\n",
       "      <td>67.522500</td>\n",
       "      <td>47.390000</td>\n",
       "      <td>0.0</td>\n",
       "    </tr>\n",
       "    <tr>\n",
       "      <th>max</th>\n",
       "      <td>36.850000</td>\n",
       "      <td>50.950000</td>\n",
       "      <td>86.890000</td>\n",
       "      <td>69.930000</td>\n",
       "      <td>0.0</td>\n",
       "    </tr>\n",
       "  </tbody>\n",
       "</table>\n",
       "</div>"
      ],
      "text/plain": [
       "       Low_Wage_Salaire_Minium  Median_Wage_Salaire_Median  \\\n",
       "count                52.000000                   64.000000   \n",
       "mean                 25.324808                   41.265313   \n",
       "std                   3.588600                    4.199198   \n",
       "min                  15.600000                   32.550000   \n",
       "25%                  23.080000                   38.000000   \n",
       "50%                  25.000000                   41.340000   \n",
       "75%                  27.345000                   44.832500   \n",
       "max                  36.850000                   50.950000   \n",
       "\n",
       "       High_Wage_Salaire_Maximal  Average_Wage_Salaire_Moyen  \\\n",
       "count                  52.000000                   62.000000   \n",
       "mean                   61.095385                   43.900161   \n",
       "std                    11.729541                    6.778051   \n",
       "min                    42.000000                   33.540000   \n",
       "25%                    53.217500                   39.087500   \n",
       "50%                    57.845000                   42.015000   \n",
       "75%                    67.522500                   47.390000   \n",
       "max                    86.890000                   69.930000   \n",
       "\n",
       "       Annual_Wage_Flag_Salaire_annuel  \n",
       "count                            172.0  \n",
       "mean                               0.0  \n",
       "std                                0.0  \n",
       "min                                0.0  \n",
       "25%                                0.0  \n",
       "50%                                0.0  \n",
       "75%                                0.0  \n",
       "max                                0.0  "
      ]
     },
     "execution_count": 7,
     "metadata": {},
     "output_type": "execute_result"
    }
   ],
   "source": [
    "dfDS.describe()"
   ]
  },
  {
   "cell_type": "code",
   "execution_count": 8,
   "metadata": {},
   "outputs": [],
   "source": [
    "#removing irrelevant columns\n",
    "dfDS = dfDS.drop(columns=['NOC_CNP','Wage_Comment_F', 'Data_Source_F', 'NOC_TITLE_FRA', 'Nom_RE'])"
   ]
  },
  {
   "cell_type": "code",
   "execution_count": 9,
   "metadata": {},
   "outputs": [],
   "source": [
    "#remove any row that has no data in any of the salary columns\n",
    "dfDS.dropna(how='all',inplace=True,subset=['Low_Wage_Salaire_Minium', 'Median_Wage_Salaire_Median','High_Wage_Salaire_Maximal', 'Average_Wage_Salaire_Moyen'])"
   ]
  },
  {
   "cell_type": "code",
   "execution_count": 10,
   "metadata": {},
   "outputs": [
    {
     "data": {
      "text/html": [
       "<div>\n",
       "<style scoped>\n",
       "    .dataframe tbody tr th:only-of-type {\n",
       "        vertical-align: middle;\n",
       "    }\n",
       "\n",
       "    .dataframe tbody tr th {\n",
       "        vertical-align: top;\n",
       "    }\n",
       "\n",
       "    .dataframe thead th {\n",
       "        text-align: right;\n",
       "    }\n",
       "</style>\n",
       "<table border=\"1\" class=\"dataframe\">\n",
       "  <thead>\n",
       "    <tr style=\"text-align: right;\">\n",
       "      <th></th>\n",
       "      <th>NOC_TITLE_ENG</th>\n",
       "      <th>prov</th>\n",
       "      <th>ER_Code_Code_RE</th>\n",
       "      <th>ER_Name</th>\n",
       "      <th>Low_Wage_Salaire_Minium</th>\n",
       "      <th>Median_Wage_Salaire_Median</th>\n",
       "      <th>High_Wage_Salaire_Maximal</th>\n",
       "      <th>Average_Wage_Salaire_Moyen</th>\n",
       "      <th>Data_Source_E</th>\n",
       "      <th>Reference_Period</th>\n",
       "      <th>Revision_Date_Date_revision</th>\n",
       "      <th>Annual_Wage_Flag_Salaire_annuel</th>\n",
       "      <th>Wage_Comment_E</th>\n",
       "    </tr>\n",
       "  </thead>\n",
       "  <tbody>\n",
       "    <tr>\n",
       "      <th>3</th>\n",
       "      <td>Data scientists</td>\n",
       "      <td>NB</td>\n",
       "      <td>ER13</td>\n",
       "      <td>New Brunswick</td>\n",
       "      <td>NaN</td>\n",
       "      <td>37.29</td>\n",
       "      <td>NaN</td>\n",
       "      <td>46.55</td>\n",
       "      <td>2021 Census</td>\n",
       "      <td>2021</td>\n",
       "      <td>2023-11-29</td>\n",
       "      <td>0</td>\n",
       "      <td>NaN</td>\n",
       "    </tr>\n",
       "    <tr>\n",
       "      <th>11</th>\n",
       "      <td>Data scientists</td>\n",
       "      <td>ON</td>\n",
       "      <td>ER3510</td>\n",
       "      <td>Ottawa</td>\n",
       "      <td>27.30</td>\n",
       "      <td>45.99</td>\n",
       "      <td>78.43</td>\n",
       "      <td>56.16</td>\n",
       "      <td>2021 Census</td>\n",
       "      <td>2021</td>\n",
       "      <td>2023-11-29</td>\n",
       "      <td>0</td>\n",
       "      <td>NaN</td>\n",
       "    </tr>\n",
       "    <tr>\n",
       "      <th>19</th>\n",
       "      <td>Data scientists</td>\n",
       "      <td>SK</td>\n",
       "      <td>ER47</td>\n",
       "      <td>Saskatchewan</td>\n",
       "      <td>NaN</td>\n",
       "      <td>46.65</td>\n",
       "      <td>NaN</td>\n",
       "      <td>46.65</td>\n",
       "      <td>2021 Census</td>\n",
       "      <td>2021</td>\n",
       "      <td>2023-11-29</td>\n",
       "      <td>0</td>\n",
       "      <td>NaN</td>\n",
       "    </tr>\n",
       "    <tr>\n",
       "      <th>27</th>\n",
       "      <td>Database analysts and data administrators</td>\n",
       "      <td>NaN</td>\n",
       "      <td>ER00</td>\n",
       "      <td>Canada</td>\n",
       "      <td>24.00</td>\n",
       "      <td>40.87</td>\n",
       "      <td>58.00</td>\n",
       "      <td>40.88</td>\n",
       "      <td>Labour Force Survey</td>\n",
       "      <td>2021-2022</td>\n",
       "      <td>2023-11-29</td>\n",
       "      <td>0</td>\n",
       "      <td>NaN</td>\n",
       "    </tr>\n",
       "    <tr>\n",
       "      <th>35</th>\n",
       "      <td>Database analysts and data administrators</td>\n",
       "      <td>NB</td>\n",
       "      <td>ER1320</td>\n",
       "      <td>Moncton--Richibucto</td>\n",
       "      <td>21.63</td>\n",
       "      <td>34.62</td>\n",
       "      <td>45.49</td>\n",
       "      <td>35.32</td>\n",
       "      <td>Labour Force Survey</td>\n",
       "      <td>2021-2022</td>\n",
       "      <td>2023-11-29</td>\n",
       "      <td>0</td>\n",
       "      <td>NaN</td>\n",
       "    </tr>\n",
       "  </tbody>\n",
       "</table>\n",
       "</div>"
      ],
      "text/plain": [
       "                                NOC_TITLE_ENG prov ER_Code_Code_RE  \\\n",
       "3                             Data scientists   NB            ER13   \n",
       "11                            Data scientists   ON          ER3510   \n",
       "19                            Data scientists   SK            ER47   \n",
       "27  Database analysts and data administrators  NaN            ER00   \n",
       "35  Database analysts and data administrators   NB          ER1320   \n",
       "\n",
       "                ER_Name  Low_Wage_Salaire_Minium  Median_Wage_Salaire_Median  \\\n",
       "3         New Brunswick                      NaN                       37.29   \n",
       "11               Ottawa                    27.30                       45.99   \n",
       "19         Saskatchewan                      NaN                       46.65   \n",
       "27               Canada                    24.00                       40.87   \n",
       "35  Moncton--Richibucto                    21.63                       34.62   \n",
       "\n",
       "    High_Wage_Salaire_Maximal  Average_Wage_Salaire_Moyen  \\\n",
       "3                         NaN                       46.55   \n",
       "11                      78.43                       56.16   \n",
       "19                        NaN                       46.65   \n",
       "27                      58.00                       40.88   \n",
       "35                      45.49                       35.32   \n",
       "\n",
       "          Data_Source_E Reference_Period Revision_Date_Date_revision  \\\n",
       "3           2021 Census             2021                  2023-11-29   \n",
       "11          2021 Census             2021                  2023-11-29   \n",
       "19          2021 Census             2021                  2023-11-29   \n",
       "27  Labour Force Survey        2021-2022                  2023-11-29   \n",
       "35  Labour Force Survey        2021-2022                  2023-11-29   \n",
       "\n",
       "    Annual_Wage_Flag_Salaire_annuel Wage_Comment_E  \n",
       "3                                 0            NaN  \n",
       "11                                0            NaN  \n",
       "19                                0            NaN  \n",
       "27                                0            NaN  \n",
       "35                                0            NaN  "
      ]
     },
     "execution_count": 10,
     "metadata": {},
     "output_type": "execute_result"
    }
   ],
   "source": [
    "dfDS.reset_index(inplace=True,drop=True)\n",
    "dfDS[3:36:8] #display a small selection of the table"
   ]
  },
  {
   "cell_type": "code",
   "execution_count": 12,
   "metadata": {},
   "outputs": [
    {
     "data": {
      "text/plain": [
       "prov\n",
       "BC    46.435714\n",
       "AB    46.205000\n",
       "ON    45.754000\n",
       "QC    45.186667\n",
       "SK    43.754000\n",
       "NL    43.110000\n",
       "MB    39.015000\n",
       "NB    38.022000\n",
       "NS    37.716667\n",
       "PE    33.540000\n",
       "Name: Average_Wage_Salaire_Moyen, dtype: float64"
      ]
     },
     "execution_count": 12,
     "metadata": {},
     "output_type": "execute_result"
    }
   ],
   "source": [
    "dfDS.groupby('prov')['Average_Wage_Salaire_Moyen'].mean().sort_values(ascending=False)"
   ]
  },
  {
   "cell_type": "markdown",
   "metadata": {},
   "source": [
    "### Followed by a curated list from https://ai-jobs.net\n",
    "This data source is survey based however it seems to be the main third party source for data related jobs"
   ]
  },
  {
   "cell_type": "code",
   "execution_count": 38,
   "metadata": {},
   "outputs": [
    {
     "data": {
      "text/plain": [
       "Index(['work_year', 'experience_level', 'employment_type', 'job_title',\n",
       "       'salary', 'salary_currency', 'salary_in_usd', 'employee_residence',\n",
       "       'remote_ratio', 'company_location', 'company_size'],\n",
       "      dtype='object')"
      ]
     },
     "execution_count": 38,
     "metadata": {},
     "output_type": "execute_result"
    }
   ],
   "source": [
    "dfOG2 = pd.read_csv(r'Data\\salaries.csv')\n",
    "\n",
    "dfOG2.columns"
   ]
  },
  {
   "cell_type": "code",
   "execution_count": 39,
   "metadata": {},
   "outputs": [
    {
     "data": {
      "text/plain": [
       "employment_type\n",
       "FT    13680\n",
       "CT       26\n",
       "PT       22\n",
       "FL       12\n",
       "Name: count, dtype: int64"
      ]
     },
     "execution_count": 39,
     "metadata": {},
     "output_type": "execute_result"
    }
   ],
   "source": [
    "dfOG2['employment_type'].value_counts()"
   ]
  },
  {
   "cell_type": "code",
   "execution_count": 40,
   "metadata": {},
   "outputs": [
    {
     "data": {
      "text/html": [
       "<div>\n",
       "<style scoped>\n",
       "    .dataframe tbody tr th:only-of-type {\n",
       "        vertical-align: middle;\n",
       "    }\n",
       "\n",
       "    .dataframe tbody tr th {\n",
       "        vertical-align: top;\n",
       "    }\n",
       "\n",
       "    .dataframe thead th {\n",
       "        text-align: right;\n",
       "    }\n",
       "</style>\n",
       "<table border=\"1\" class=\"dataframe\">\n",
       "  <thead>\n",
       "    <tr style=\"text-align: right;\">\n",
       "      <th></th>\n",
       "      <th>work_year</th>\n",
       "      <th>salary</th>\n",
       "      <th>salary_in_usd</th>\n",
       "      <th>remote_ratio</th>\n",
       "    </tr>\n",
       "  </thead>\n",
       "  <tbody>\n",
       "    <tr>\n",
       "      <th>count</th>\n",
       "      <td>13611.000000</td>\n",
       "      <td>1.361100e+04</td>\n",
       "      <td>13611.000000</td>\n",
       "      <td>13611.000000</td>\n",
       "    </tr>\n",
       "    <tr>\n",
       "      <th>mean</th>\n",
       "      <td>2023.088825</td>\n",
       "      <td>1.651205e+05</td>\n",
       "      <td>150324.481596</td>\n",
       "      <td>33.234149</td>\n",
       "    </tr>\n",
       "    <tr>\n",
       "      <th>std</th>\n",
       "      <td>0.642918</td>\n",
       "      <td>3.556229e+05</td>\n",
       "      <td>68121.666495</td>\n",
       "      <td>46.697734</td>\n",
       "    </tr>\n",
       "    <tr>\n",
       "      <th>min</th>\n",
       "      <td>2021.000000</td>\n",
       "      <td>1.500000e+04</td>\n",
       "      <td>15000.000000</td>\n",
       "      <td>0.000000</td>\n",
       "    </tr>\n",
       "    <tr>\n",
       "      <th>25%</th>\n",
       "      <td>2023.000000</td>\n",
       "      <td>1.043000e+05</td>\n",
       "      <td>104000.000000</td>\n",
       "      <td>0.000000</td>\n",
       "    </tr>\n",
       "    <tr>\n",
       "      <th>50%</th>\n",
       "      <td>2023.000000</td>\n",
       "      <td>1.424000e+05</td>\n",
       "      <td>142200.000000</td>\n",
       "      <td>0.000000</td>\n",
       "    </tr>\n",
       "    <tr>\n",
       "      <th>75%</th>\n",
       "      <td>2023.000000</td>\n",
       "      <td>1.880000e+05</td>\n",
       "      <td>186000.000000</td>\n",
       "      <td>100.000000</td>\n",
       "    </tr>\n",
       "    <tr>\n",
       "      <th>max</th>\n",
       "      <td>2024.000000</td>\n",
       "      <td>3.040000e+07</td>\n",
       "      <td>800000.000000</td>\n",
       "      <td>100.000000</td>\n",
       "    </tr>\n",
       "  </tbody>\n",
       "</table>\n",
       "</div>"
      ],
      "text/plain": [
       "          work_year        salary  salary_in_usd  remote_ratio\n",
       "count  13611.000000  1.361100e+04   13611.000000  13611.000000\n",
       "mean    2023.088825  1.651205e+05  150324.481596     33.234149\n",
       "std        0.642918  3.556229e+05   68121.666495     46.697734\n",
       "min     2021.000000  1.500000e+04   15000.000000      0.000000\n",
       "25%     2023.000000  1.043000e+05  104000.000000      0.000000\n",
       "50%     2023.000000  1.424000e+05  142200.000000      0.000000\n",
       "75%     2023.000000  1.880000e+05  186000.000000    100.000000\n",
       "max     2024.000000  3.040000e+07  800000.000000    100.000000"
      ]
     },
     "execution_count": 40,
     "metadata": {},
     "output_type": "execute_result"
    }
   ],
   "source": [
    "#filtering for year of 2023 and fulltime employment\n",
    "df2 = dfOG2[(dfOG2['work_year']>=2021) & (dfOG2['employment_type']=='FT')].copy()\n",
    "df2.describe()"
   ]
  },
  {
   "cell_type": "code",
   "execution_count": 41,
   "metadata": {},
   "outputs": [],
   "source": [
    "#convert prices to CAD for 2023\n",
    "try:\n",
    "    with open(r'Data\\usdcad.txt','r') as usdcadfile:\n",
    "        usdcad = float(usdcadfile.read())\n",
    "except:\n",
    "    import MetaTrader5 as mt5\n",
    "    mt5.initialize()\n",
    "    mt5.symbol_select('USDCAD.p')\n",
    "    prices = pd.DataFrame(mt5.copy_rates_range('USDCAD.p',mt5.TIMEFRAME_D1,pd.to_datetime('2023-01-01'),pd.to_datetime('2023-12-31')))\n",
    "    usdcad =prices['close'].mean()\n",
    "    with open(r'Data\\usdcad.txt','w') as usdcadfile:\n",
    "        usdcadfile.write(str(usdcad))\n",
    "df2['salary_in_cad'] = df2['salary_in_usd']*usdcad"
   ]
  },
  {
   "cell_type": "code",
   "execution_count": 42,
   "metadata": {},
   "outputs": [],
   "source": [
    "#filtering for Canadian employees\n",
    "df2cad = df2[df2['employee_residence'] == 'CA'].copy()"
   ]
  },
  {
   "cell_type": "code",
   "execution_count": 43,
   "metadata": {},
   "outputs": [],
   "source": [
    "df2cad.drop(columns=['salary','salary_in_usd','salary_currency'],inplace=True)"
   ]
  },
  {
   "cell_type": "code",
   "execution_count": 44,
   "metadata": {},
   "outputs": [
    {
     "data": {
      "text/plain": [
       "job_title\n",
       "Data Scientist                        89\n",
       "Data Engineer                         56\n",
       "Machine Learning Engineer             42\n",
       "Data Analyst                          41\n",
       "Analytics Engineer                    18\n",
       "Business Intelligence Analyst         12\n",
       "Machine Learning Scientist            11\n",
       "Data Architect                         8\n",
       "Research Scientist                     5\n",
       "Data Integration Specialist            4\n",
       "Machine Learning Software Engineer     4\n",
       "Data Modeler                           4\n",
       "ML Engineer                            4\n",
       "Data Science                           4\n",
       "Business Intelligence Developer        4\n",
       "Data Strategist                        2\n",
       "AI Programmer                          2\n",
       "Machine Learning Developer             2\n",
       "Director of Data Science               2\n",
       "Data Developer                         2\n",
       "Business Intelligence Engineer         2\n",
       "Deep Learning Engineer                 2\n",
       "Data Lead                              2\n",
       "Research Analyst                       2\n",
       "AI Engineer                            2\n",
       "Data Management Specialist             2\n",
       "Principal Data Analyst                 1\n",
       "Business Data Analyst                  1\n",
       "Big Data Engineer                      1\n",
       "Data Science Engineer                  1\n",
       "Lead Data Engineer                     1\n",
       "Data Manager                           1\n",
       "AI Architect                           1\n",
       "Machine Learning Researcher            1\n",
       "AI Scientist                           1\n",
       "AI Developer                           1\n",
       "Business Intelligence Data Analyst     1\n",
       "BI Data Analyst                        1\n",
       "Machine Learning Research Engineer     1\n",
       "Big Data Architect                     1\n",
       "Name: count, dtype: int64"
      ]
     },
     "execution_count": 44,
     "metadata": {},
     "output_type": "execute_result"
    }
   ],
   "source": [
    "df2cad['job_title'].value_counts()"
   ]
  },
  {
   "cell_type": "code",
   "execution_count": 45,
   "metadata": {},
   "outputs": [
    {
     "data": {
      "text/html": [
       "<div>\n",
       "<style scoped>\n",
       "    .dataframe tbody tr th:only-of-type {\n",
       "        vertical-align: middle;\n",
       "    }\n",
       "\n",
       "    .dataframe tbody tr th {\n",
       "        vertical-align: top;\n",
       "    }\n",
       "\n",
       "    .dataframe thead th {\n",
       "        text-align: right;\n",
       "    }\n",
       "</style>\n",
       "<table border=\"1\" class=\"dataframe\">\n",
       "  <thead>\n",
       "    <tr style=\"text-align: right;\">\n",
       "      <th></th>\n",
       "      <th>work_year</th>\n",
       "      <th>remote_ratio</th>\n",
       "      <th>salary_in_cad</th>\n",
       "    </tr>\n",
       "  </thead>\n",
       "  <tbody>\n",
       "    <tr>\n",
       "      <th>count</th>\n",
       "      <td>41.000000</td>\n",
       "      <td>41.000000</td>\n",
       "      <td>41.000000</td>\n",
       "    </tr>\n",
       "    <tr>\n",
       "      <th>mean</th>\n",
       "      <td>2023.000000</td>\n",
       "      <td>41.463415</td>\n",
       "      <td>144419.160009</td>\n",
       "    </tr>\n",
       "    <tr>\n",
       "      <th>std</th>\n",
       "      <td>0.806226</td>\n",
       "      <td>49.877900</td>\n",
       "      <td>55748.474795</td>\n",
       "    </tr>\n",
       "    <tr>\n",
       "      <th>min</th>\n",
       "      <td>2021.000000</td>\n",
       "      <td>0.000000</td>\n",
       "      <td>54991.278050</td>\n",
       "    </tr>\n",
       "    <tr>\n",
       "      <th>25%</th>\n",
       "      <td>2022.000000</td>\n",
       "      <td>0.000000</td>\n",
       "      <td>101218.392857</td>\n",
       "    </tr>\n",
       "    <tr>\n",
       "      <th>50%</th>\n",
       "      <td>2023.000000</td>\n",
       "      <td>0.000000</td>\n",
       "      <td>141705.750000</td>\n",
       "    </tr>\n",
       "    <tr>\n",
       "      <th>75%</th>\n",
       "      <td>2024.000000</td>\n",
       "      <td>100.000000</td>\n",
       "      <td>175445.214286</td>\n",
       "    </tr>\n",
       "    <tr>\n",
       "      <th>max</th>\n",
       "      <td>2024.000000</td>\n",
       "      <td>100.000000</td>\n",
       "      <td>279767.637857</td>\n",
       "    </tr>\n",
       "  </tbody>\n",
       "</table>\n",
       "</div>"
      ],
      "text/plain": [
       "         work_year  remote_ratio  salary_in_cad\n",
       "count    41.000000     41.000000      41.000000\n",
       "mean   2023.000000     41.463415  144419.160009\n",
       "std       0.806226     49.877900   55748.474795\n",
       "min    2021.000000      0.000000   54991.278050\n",
       "25%    2022.000000      0.000000  101218.392857\n",
       "50%    2023.000000      0.000000  141705.750000\n",
       "75%    2024.000000    100.000000  175445.214286\n",
       "max    2024.000000    100.000000  279767.637857"
      ]
     },
     "execution_count": 45,
     "metadata": {},
     "output_type": "execute_result"
    }
   ],
   "source": [
    "df2cad[df2cad['job_title']=='Data Analyst'].describe()"
   ]
  },
  {
   "cell_type": "markdown",
   "metadata": {},
   "source": [
    "### Another dataset from Statscan, but more broad\n",
    "https://www150.statcan.gc.ca/t1/tbl1/en/tv.action?pid=9810041201"
   ]
  },
  {
   "cell_type": "code",
   "execution_count": 50,
   "metadata": {},
   "outputs": [
    {
     "data": {
      "text/html": [
       "<div>\n",
       "<style scoped>\n",
       "    .dataframe tbody tr th:only-of-type {\n",
       "        vertical-align: middle;\n",
       "    }\n",
       "\n",
       "    .dataframe tbody tr th {\n",
       "        vertical-align: top;\n",
       "    }\n",
       "\n",
       "    .dataframe thead th {\n",
       "        text-align: right;\n",
       "    }\n",
       "</style>\n",
       "<table border=\"1\" class=\"dataframe\">\n",
       "  <thead>\n",
       "    <tr style=\"text-align: right;\">\n",
       "      <th></th>\n",
       "      <th>Occupation</th>\n",
       "      <th>Total Employment ppls</th>\n",
       "      <th>With Income</th>\n",
       "      <th>Med Income</th>\n",
       "      <th>Mean Income</th>\n",
       "      <th>Med Inc + coms</th>\n",
       "      <th>Mean Inc + coms</th>\n",
       "      <th>Average wages salaries and commissions</th>\n",
       "    </tr>\n",
       "  </thead>\n",
       "  <tbody>\n",
       "    <tr>\n",
       "      <th>93</th>\n",
       "      <td>14111 Data entry clerks</td>\n",
       "      <td>46,895</td>\n",
       "      <td>43,300</td>\n",
       "      <td>31,200</td>\n",
       "      <td>33,080</td>\n",
       "      <td>41,595</td>\n",
       "      <td>32,400</td>\n",
       "      <td>33,760</td>\n",
       "    </tr>\n",
       "    <tr>\n",
       "      <th>141</th>\n",
       "      <td>21211 Data scientists</td>\n",
       "      <td>15,420</td>\n",
       "      <td>14,450</td>\n",
       "      <td>83,000</td>\n",
       "      <td>89,500</td>\n",
       "      <td>14,080</td>\n",
       "      <td>83,000</td>\n",
       "      <td>89,600</td>\n",
       "    </tr>\n",
       "    <tr>\n",
       "      <th>146</th>\n",
       "      <td>21223 Database analysts and data administrators</td>\n",
       "      <td>26,225</td>\n",
       "      <td>25,025</td>\n",
       "      <td>72,000</td>\n",
       "      <td>74,400</td>\n",
       "      <td>24,305</td>\n",
       "      <td>72,500</td>\n",
       "      <td>75,200</td>\n",
       "    </tr>\n",
       "  </tbody>\n",
       "</table>\n",
       "</div>"
      ],
      "text/plain": [
       "                                          Occupation Total Employment ppls  \\\n",
       "93                           14111 Data entry clerks                46,895   \n",
       "141                            21211 Data scientists                15,420   \n",
       "146  21223 Database analysts and data administrators                26,225   \n",
       "\n",
       "    With Income Med Income Mean Income Med Inc + coms Mean Inc + coms  \\\n",
       "93       43,300     31,200      33,080         41,595          32,400   \n",
       "141      14,450     83,000      89,500         14,080          83,000   \n",
       "146      25,025     72,000      74,400         24,305          72,500   \n",
       "\n",
       "    Average wages salaries and commissions  \n",
       "93                                  33,760  \n",
       "141                                 89,600  \n",
       "146                                 75,200  "
      ]
     },
     "execution_count": 50,
     "metadata": {},
     "output_type": "execute_result"
    }
   ],
   "source": [
    "dfinc = pd.read_csv(r'Data\\income_field_of_study.csv',index_col=None)\n",
    "dfinc1 = dfinc[dfinc.iloc[:,0].str.contains('Data')].copy()\n",
    "dfinc1"
   ]
  },
  {
   "cell_type": "markdown",
   "metadata": {},
   "source": [
    "### Now we are getting the Job Bank Information from https://www.jobbank.gc.ca\n",
    "Using Selenium, we will access websites like the Canadian Job Bank, or Indeed, and scrape their postings to get salary data around the country"
   ]
  },
  {
   "cell_type": "code",
   "execution_count": 51,
   "metadata": {},
   "outputs": [],
   "source": [
    "from selenium import webdriver\n",
    "from selenium.webdriver.common.by import By\n",
    "from selenium.webdriver.common.keys import Keys\n",
    "from selenium.common.exceptions import NoSuchElementException, ElementNotVisibleException, TimeoutException\n",
    "from selenium.webdriver.support.ui import WebDriverWait\n",
    "from selenium.webdriver.support import expected_conditions as EC\n",
    "import time\n",
    "import bs4\n",
    "def jobbank_salaries(searchterms:str,file_path:str,add_type:str='a'):\n",
    "    driver = webdriver.Chrome()\n",
    "    start_ ='https://www.jobbank.gc.ca/jobsearch/jobsearch?searchstring='\n",
    "    end_ = '&locationstring=Canada'\n",
    "    searchterms = searchterms.replace(' ','+')\n",
    "    searchterms_ = searchterms.rstrip()\n",
    "    searchterms_ = start_+searchterms+end_\n",
    "    driver.get(searchterms_)\n",
    "    time.sleep(5) \n",
    "    try:\n",
    "        while True:\n",
    "            see_more_button = WebDriverWait(driver, 10).until(\n",
    "                EC.element_to_be_clickable((By.XPATH, '//button[@type=\"button\"][@id=\"moreresultbutton\"]')))\n",
    "            if see_more_button:\n",
    "                see_more_button.click()\n",
    "                time.sleep(3)\n",
    "            else: break\n",
    "    except (NoSuchElementException, ElementNotVisibleException, TimeoutException) as e:\n",
    "        print(\"The 'See More' button is no longer available.\")\n",
    "    html_source = driver.page_source\n",
    "    with open(file_path, add_type, encoding='utf-8') as file:\n",
    "        file.write(html_source)\n",
    "    driver.quit()\n",
    "    return searchterms\n",
    "\n",
    "def indeed_salaries(searchterms:str,file_path:str,pages:int,s:bool=True):\n",
    "    driver = webdriver.Chrome()\n",
    "    start_ ='https://ca.indeed.com/jobs?q='\n",
    "    end_ = '&l=Canada&vjk=d604f2f27a7640cf'\n",
    "    searchterms = searchterms.replace(' ','+')\n",
    "    searchterms_ = searchterms.rstrip()\n",
    "    searchterms_ = start_+searchterms+end_\n",
    "    driver.get(searchterms_)\n",
    "    time.sleep(5) \n",
    "    html_source=''\n",
    "    c=0\n",
    "    try:\n",
    "        while c<pages:\n",
    "            html_source=html_source+driver.page_source\n",
    "            if c==1:\n",
    "                time.sleep(3)\n",
    "                x_button = driver.find_element(By.XPATH,'//h3[@class=\"DesktopJobAlertPopup-heading\"]//following::button[1]')\n",
    "                x_button.click()\n",
    "            see_more_button = WebDriverWait(driver, 10).until(\n",
    "                EC.element_to_be_clickable((By.XPATH, '//a[@aria-label=\"Next Page\"]')))\n",
    "            if see_more_button:\n",
    "                see_more_button.click()\n",
    "                time.sleep(2)\n",
    "            else: break\n",
    "            c+=1\n",
    "    except (NoSuchElementException, ElementNotVisibleException, TimeoutException) as e:\n",
    "        print(\"The 'See More' button is no longer available.\",e)\n",
    "    if s:    \n",
    "        soup =bs4.BeautifulSoup(html_source,'html.parser')\n",
    "        with open(file_path, 'w', encoding='utf-8') as file:\n",
    "            file.write(soup.prettify()) \n",
    "    else:\n",
    "        with open(file_path, 'w', encoding='utf-8') as file:\n",
    "            file.write(html_source)\n",
    "    driver.quit()\n",
    "    return searchterms"
   ]
  },
  {
   "cell_type": "code",
   "execution_count": 52,
   "metadata": {},
   "outputs": [],
   "source": [
    "filepathhtml = r'Data\\cadjobbanktest.html'\n",
    "if input('run jobbank search?') == 'y':\n",
    "    job = jobbank_salaries('Data Analyst',filepathhtml,add_type='w')"
   ]
  },
  {
   "cell_type": "code",
   "execution_count": 53,
   "metadata": {},
   "outputs": [],
   "source": [
    "#for salaries with a range, take the min of the range, by finding 'to' or ' - ' and remove the tail of the str\n",
    "#convert annual salaries to hourly with 40 hours a week.\n",
    "def convCol(x:str):\n",
    "    newx=x\n",
    "    x=x.lower()\n",
    "    if 'hour' in x and ('to' in x or '–' in x or '-' in x):\n",
    "        if 'to' in x:\n",
    "            x=x[:x.index('t')]\n",
    "        elif '–' in x:\n",
    "            x=x[:x.index('–')]\n",
    "        else:\n",
    "            x=x[:x.index('-')]\n",
    "        newx = float(re.sub('[^0-9.]','',x))\n",
    "    elif 'hour' in x:\n",
    "        newx = float(re.sub('[^0-9.]','',x))\n",
    "    elif 'month' in x and ('to' in x or '–' in x or '-'in x):\n",
    "        if '-' in x:\n",
    "            x=x[:x.index('-')]\n",
    "        elif 'to' in x:\n",
    "            x=x[:x.index('to')]\n",
    "        else:\n",
    "            x=x[:x.index('–')]\n",
    "\n",
    "        newx = float(re.sub('[^0-9.]','',x))\n",
    "        newx=newx/((52/12)*40)\n",
    "    elif 'month' in x:\n",
    "        newx = float(re.sub('[^0-9.]','',x))\n",
    "        newx=newx/((52/12)*40)\n",
    "    elif 'week' in x and ('to' in x or '–' in x or '-'in x ):\n",
    "        if '-' in x:\n",
    "            x=x[:x.index('-')]\n",
    "        elif 't' in x:\n",
    "            x=x[:x.index('t')]\n",
    "        else:\n",
    "            x=x[:x.index('–')]\n",
    "        newx = float(re.sub('[^0-9.]','',x))\n",
    "        newx=newx/40\n",
    "    elif 'week' in x:\n",
    "        newx = float(re.sub('[^0-9.]','',x))\n",
    "        newx=newx/40\n",
    "    elif ('annual' in x or 'year'in x)  and ('to' in x or '–' in x or '-' in x ):\n",
    "        if 'to' in x :\n",
    "            x=x[:x.index('t')]\n",
    "        elif '-' in x:\n",
    "            x=x[:x.index('-')]\n",
    "        else:\n",
    "            x=x[:x.index('–')]\n",
    "        newx = float(re.sub('[^0-9.]','',x))\n",
    "        newx=newx/(40*52)    \n",
    "    elif 'annual' in x or 'year' in x:\n",
    "        newx = float(re.sub('[^0-9.]','',x))\n",
    "        newx=newx/(40*52)\n",
    "    else:\n",
    "        newx = float(re.sub('[^0-9.]','',x))\n",
    "    return newx"
   ]
  },
  {
   "cell_type": "code",
   "execution_count": 54,
   "metadata": {},
   "outputs": [],
   "source": [
    "def jobbank_cleaning(file:str):\n",
    "    with open(file, 'r',encoding='utf-8') as data:\n",
    "        rawhtml = data.read()\n",
    "    articles = re.findall('<article.*?</article>',rawhtml,re.DOTALL)\n",
    "    print(f\"Amount of items found: {len(articles)}\")\n",
    "    jobs = {'Title':[],'Date':[],'Salary':[],'Location':[],'Company':[]}\n",
    "    for i in articles:\n",
    "        try:\n",
    "            salary = (re.search('salary.+?Salary:\\n(.+?)<',i,re.DOTALL)).group(1).lstrip().rstrip()\n",
    "        except Exception as e:\n",
    "            continue\n",
    "        title = (re.search('noctitle\">(.+?)\\n',i)).group(1).lstrip().rstrip()\n",
    "        location=(re.search('Location</span>(.+?)<',i,re.DOTALL)).group(1).lstrip().rstrip()\n",
    "        date = (re.search('\"date\">(.*?)\\n',i)).group(1).lstrip().rstrip()\n",
    "        company = (re.search('business\">(.+?)<',i)).group(1).lstrip().rstrip()\n",
    "        jobs['Title'].append(title)\n",
    "        jobs['Company'].append(company)\n",
    "        jobs['Location'].append(location)\n",
    "        jobs['Date'].append(date)\n",
    "        jobs['Salary'].append(salary)\n",
    "    dfjobbankOG = pd.DataFrame(jobs)\n",
    "    dfjobbank =dfjobbankOG.copy()\n",
    "    dfjobbank['Salary']=dfjobbank['Salary'].apply(convCol)\n",
    "    dfjobbank['City'] = dfjobbank['Location'].str[:-4]\n",
    "    dfjobbank['Province'] = dfjobbank['Location'].str[-4:]\n",
    "    dfjobbank.drop(columns='Location',inplace=True)\n",
    "    dfjobbank = dfjobbank[['Title','Salary','City','Province','Company','Date']] \n",
    "    print(f\"Amount with Salaries: {len(dfjobbank)}\")\n",
    "    return (dfjobbank,dfjobbankOG)"
   ]
  },
  {
   "cell_type": "code",
   "execution_count": 55,
   "metadata": {},
   "outputs": [
    {
     "name": "stdout",
     "output_type": "stream",
     "text": [
      "Amount of items found: 309\n",
      "Amount with Salaries: 197\n"
     ]
    }
   ],
   "source": [
    "dfjobbank,dfjobbankOG=jobbank_cleaning(filepathhtml)"
   ]
  },
  {
   "cell_type": "code",
   "execution_count": 56,
   "metadata": {},
   "outputs": [
    {
     "data": {
      "text/plain": [
       "Province\n",
       "(ON)    89\n",
       "(AB)    46\n",
       "(BC)    40\n",
       "(QC)    13\n",
       "(SK)     3\n",
       "(MB)     2\n",
       "(NS)     2\n",
       "(NL)     1\n",
       "(NB)     1\n",
       "Name: count, dtype: int64"
      ]
     },
     "execution_count": 56,
     "metadata": {},
     "output_type": "execute_result"
    }
   ],
   "source": [
    "dfjobbank['Province'].value_counts()"
   ]
  },
  {
   "cell_type": "code",
   "execution_count": 57,
   "metadata": {},
   "outputs": [
    {
     "data": {
      "text/plain": [
       "Province\n",
       "(QC)    3774.199985\n",
       "(AB)      42.958261\n",
       "(ON)      42.353272\n",
       "(NL)      42.300000\n",
       "(SK)      40.146667\n",
       "(BC)      39.431058\n",
       "(NS)      36.826923\n",
       "(NB)      35.500000\n",
       "(MB)      30.665000\n",
       "Name: Salary, dtype: float64"
      ]
     },
     "execution_count": 57,
     "metadata": {},
     "output_type": "execute_result"
    }
   ],
   "source": [
    "dfjobbank.groupby('Province')['Salary'].mean().sort_values(ascending=False)"
   ]
  },
  {
   "cell_type": "markdown",
   "metadata": {},
   "source": [
    "Obviously here there seems to be an issue with salaries in QC, so let's investigate what might be the problem with \n",
    "\n",
    "`dfjobbank['Salaries]>150`\n"
   ]
  },
  {
   "cell_type": "code",
   "execution_count": 58,
   "metadata": {},
   "outputs": [
    {
     "data": {
      "text/plain": [
       "Index([9], dtype='int64')"
      ]
     },
     "execution_count": 58,
     "metadata": {},
     "output_type": "execute_result"
    }
   ],
   "source": [
    "dfjobbank[dfjobbank['Salary']>150].index"
   ]
  },
  {
   "cell_type": "code",
   "execution_count": 59,
   "metadata": {},
   "outputs": [
    {
     "data": {
      "text/html": [
       "<div>\n",
       "<style scoped>\n",
       "    .dataframe tbody tr th:only-of-type {\n",
       "        vertical-align: middle;\n",
       "    }\n",
       "\n",
       "    .dataframe tbody tr th {\n",
       "        vertical-align: top;\n",
       "    }\n",
       "\n",
       "    .dataframe thead th {\n",
       "        text-align: right;\n",
       "    }\n",
       "</style>\n",
       "<table border=\"1\" class=\"dataframe\">\n",
       "  <thead>\n",
       "    <tr style=\"text-align: right;\">\n",
       "      <th></th>\n",
       "      <th>Title</th>\n",
       "      <th>Date</th>\n",
       "      <th>Salary</th>\n",
       "      <th>Location</th>\n",
       "      <th>Company</th>\n",
       "    </tr>\n",
       "  </thead>\n",
       "  <tbody>\n",
       "    <tr>\n",
       "      <th>9</th>\n",
       "      <td>DBA (database analyst)</td>\n",
       "      <td>March 06, 2024</td>\n",
       "      <td>$48,689.00 to $83,462.00 hourly</td>\n",
       "      <td>Gatineau (QC)</td>\n",
       "      <td>Cégep Héritage College</td>\n",
       "    </tr>\n",
       "  </tbody>\n",
       "</table>\n",
       "</div>"
      ],
      "text/plain": [
       "                    Title            Date                           Salary  \\\n",
       "9  DBA (database analyst)  March 06, 2024  $48,689.00 to $83,462.00 hourly   \n",
       "\n",
       "        Location                 Company  \n",
       "9  Gatineau (QC)  Cégep Héritage College  "
      ]
     },
     "execution_count": 59,
     "metadata": {},
     "output_type": "execute_result"
    }
   ],
   "source": [
    "dfjobbankOG.loc[dfjobbank[dfjobbank['Salary']>150].index]"
   ]
  },
  {
   "cell_type": "markdown",
   "metadata": {},
   "source": [
    "So here we can see that: \n",
    "> Salary      $48,689.00 to $83,462.00 hourly\n",
    "\n",
    "We can assume this data was incorrectly labeled as the hourly wages in the source data, and therefor it would need to correctly be labeled as anually"
   ]
  },
  {
   "cell_type": "code",
   "execution_count": 60,
   "metadata": {},
   "outputs": [
    {
     "data": {
      "text/plain": [
       "Province\n",
       "(AB)    42.958261\n",
       "(ON)    42.353272\n",
       "(NL)    42.300000\n",
       "(SK)    40.146667\n",
       "(BC)    39.431058\n",
       "(NS)    36.826923\n",
       "(NB)    35.500000\n",
       "(QC)    30.692922\n",
       "(MB)    30.665000\n",
       "Name: Salary, dtype: float64"
      ]
     },
     "execution_count": 60,
     "metadata": {},
     "output_type": "execute_result"
    }
   ],
   "source": [
    "dfjobbank.at[9,'Salary'] = 48689/(52*40)\n",
    "dfjobbank.groupby('Province')['Salary'].mean().sort_values(ascending=False)"
   ]
  },
  {
   "cell_type": "markdown",
   "metadata": {},
   "source": [
    "### Indeed job search "
   ]
  },
  {
   "cell_type": "code",
   "execution_count": 61,
   "metadata": {},
   "outputs": [],
   "source": [
    "if input('run indeed search?') == 'y':\n",
    "    indeed_salaries('Data Analysis','test.html',25,True)"
   ]
  },
  {
   "cell_type": "code",
   "execution_count": 62,
   "metadata": {},
   "outputs": [],
   "source": [
    "def indeed_cleaning(file:str):\n",
    "    with open(file, 'r',encoding='utf-8') as file:\n",
    "        rawhtml = file.read()\n",
    "    tbodies = re.findall('<tbody.*?</tbody>',rawhtml,re.DOTALL)\n",
    "    print(f\"Amount of items found: {len(tbodies)}\")\n",
    "    indeedjobs={'Salary':[],'Name':[],'Company':[],'City':[],'Province':[]}\n",
    "    for i in tbodies:\n",
    "        try:\n",
    "            salary = (re.search('(\\$.+?)\\n',i,re.DOTALL)).group(1)\n",
    "            indeedjobs['Salary'].append(salary)\n",
    "        except Exception as e:\n",
    "            indeedjobs['Salary'].append(float('NaN'))\n",
    "        try:\n",
    "            name = (re.search('title=\"(.+?)\"',i)).group(1)\n",
    "            indeedjobs['Name'].append(name)\n",
    "        except:\n",
    "            indeedjobs['Name'].append(None)\n",
    "        try:\n",
    "            company = (re.search('company-name.+?\\n(.+?)\\n',i,re.DOTALL)).group(1)\n",
    "            indeedjobs['Company'].append(company)\n",
    "        except:\n",
    "            indeedjobs['Company'].append(None)\n",
    "        try:\n",
    "            location = (re.search('text-location.*?\\n(.*?)\\n',i,re.DOTALL)).group(1)\n",
    "            city,province = location.split(',')\n",
    "            indeedjobs['City'].append(city)\n",
    "            indeedjobs['Province'].append(province.lstrip())\n",
    "        except:\n",
    "            indeedjobs['City'].append(None)\n",
    "            indeedjobs['Province'].append(None)\n",
    "        \n",
    "\n",
    "    dfindeedOG = pd.DataFrame(indeedjobs)\n",
    "    dfindeed = dfindeedOG.copy()\n",
    "    dfindeed.dropna(how='any',inplace=True)\n",
    "    dfindeed.reset_index(inplace=True,drop=True)\n",
    "    dfindeed['Salary'] = dfindeed['Salary'].apply(convCol)\n",
    "    print(f\"Amount with Salaries {len(dfindeed)}\")\n",
    "    return (dfindeed,dfindeedOG)"
   ]
  },
  {
   "cell_type": "code",
   "execution_count": 64,
   "metadata": {},
   "outputs": [
    {
     "name": "stdout",
     "output_type": "stream",
     "text": [
      "Amount of items found: 750\n",
      "Amount with Salaries 122\n"
     ]
    },
    {
     "data": {
      "text/plain": [
       "Province\n",
       "ON    39\n",
       "BC    36\n",
       "AB    22\n",
       "QC    14\n",
       "NS     7\n",
       "MB     4\n",
       "Name: count, dtype: int64"
      ]
     },
     "execution_count": 64,
     "metadata": {},
     "output_type": "execute_result"
    }
   ],
   "source": [
    "dfindeed,dfindeedOG = indeed_cleaning(r'Data\\test.html')\n",
    "dfindeed['Province'].value_counts()"
   ]
  },
  {
   "cell_type": "code",
   "execution_count": 65,
   "metadata": {},
   "outputs": [
    {
     "data": {
      "text/plain": [
       "Province\n",
       "QC    65.465664\n",
       "BC    41.136995\n",
       "MB    40.384615\n",
       "AB    37.699650\n",
       "ON    36.140794\n",
       "NS    36.057692\n",
       "Name: Salary, dtype: float64"
      ]
     },
     "execution_count": 65,
     "metadata": {},
     "output_type": "execute_result"
    }
   ],
   "source": [
    "dfindeed.groupby('Province')['Salary'].mean().sort_values(ascending=False)"
   ]
  }
 ],
 "metadata": {
  "kernelspec": {
   "display_name": "env",
   "language": "python",
   "name": "python3"
  },
  "language_info": {
   "codemirror_mode": {
    "name": "ipython",
    "version": 3
   },
   "file_extension": ".py",
   "mimetype": "text/x-python",
   "name": "python",
   "nbconvert_exporter": "python",
   "pygments_lexer": "ipython3",
   "version": "3.11.1"
  }
 },
 "nbformat": 4,
 "nbformat_minor": 2
}
